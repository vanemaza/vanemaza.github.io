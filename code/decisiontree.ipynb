{
  "cells": [
    {
      "cell_type": "markdown",
      "metadata": {
        "id": "FKsSEXC5kpzQ"
      },
      "source": [
        "# Classification Trees\n",
        "\n",
        "Vanessa Mendivil Maza"
      ]
    },
    {
      "cell_type": "code",
      "execution_count": 1,
      "metadata": {
        "id": "9Na-QiU4-rY-"
      },
      "outputs": [],
      "source": [
        "#Bibliotecas para tratamiento y Visualización de Datos\n",
        "\n",
        "import numpy as np\n",
        "import pandas as pd\n",
        "import seaborn as sns\n",
        "import matplotlib.pyplot as plt"
      ]
    },
    {
      "cell_type": "code",
      "execution_count": 2,
      "metadata": {
        "colab": {
          "base_uri": "https://localhost:8080/",
          "height": 0
        },
        "id": "YUjZBSrXAw6D",
        "outputId": "a2b32c1f-6704-4171-acbc-2e469c5c1a78"
      },
      "outputs": [
        {
          "name": "stdout",
          "output_type": "stream",
          "text": [
            "Requirement already satisfied: plot_confusion_matrix in c:\\users\\vane\\anaconda3\\lib\\site-packages (0.0.2)\n",
            "Requirement already satisfied: matplotlib in c:\\users\\vane\\anaconda3\\lib\\site-packages (from plot_confusion_matrix) (3.7.2)\n",
            "Requirement already satisfied: numpy in c:\\users\\vane\\anaconda3\\lib\\site-packages (from plot_confusion_matrix) (1.24.3)\n",
            "Requirement already satisfied: contourpy>=1.0.1 in c:\\users\\vane\\anaconda3\\lib\\site-packages (from matplotlib->plot_confusion_matrix) (1.0.5)\n",
            "Requirement already satisfied: cycler>=0.10 in c:\\users\\vane\\anaconda3\\lib\\site-packages (from matplotlib->plot_confusion_matrix) (0.11.0)\n",
            "Requirement already satisfied: fonttools>=4.22.0 in c:\\users\\vane\\anaconda3\\lib\\site-packages (from matplotlib->plot_confusion_matrix) (4.25.0)\n",
            "Requirement already satisfied: kiwisolver>=1.0.1 in c:\\users\\vane\\anaconda3\\lib\\site-packages (from matplotlib->plot_confusion_matrix) (1.4.4)\n",
            "Requirement already satisfied: packaging>=20.0 in c:\\users\\vane\\anaconda3\\lib\\site-packages (from matplotlib->plot_confusion_matrix) (23.1)\n",
            "Requirement already satisfied: pillow>=6.2.0 in c:\\users\\vane\\anaconda3\\lib\\site-packages (from matplotlib->plot_confusion_matrix) (10.2.0)\n",
            "Requirement already satisfied: pyparsing<3.1,>=2.3.1 in c:\\users\\vane\\anaconda3\\lib\\site-packages (from matplotlib->plot_confusion_matrix) (3.0.9)\n",
            "Requirement already satisfied: python-dateutil>=2.7 in c:\\users\\vane\\anaconda3\\lib\\site-packages (from matplotlib->plot_confusion_matrix) (2.8.2)\n",
            "Requirement already satisfied: six>=1.5 in c:\\users\\vane\\anaconda3\\lib\\site-packages (from python-dateutil>=2.7->matplotlib->plot_confusion_matrix) (1.16.0)\n"
          ]
        }
      ],
      "source": [
        "#Biblioteca para el Machine Lesarning\n",
        "from sklearn.model_selection import train_test_split\n",
        "from sklearn.neighbors import KNeighborsClassifier\n",
        "\n",
        "#Librería de árboles de decisiones\n",
        "from sklearn.tree import DecisionTreeClassifier\n",
        "\n",
        "#Bibliotecas para medidas del desempeño\n",
        "from sklearn.metrics import confusion_matrix, ConfusionMatrixDisplay\n",
        "from sklearn.metrics import accuracy_score\n",
        "!pip install plot_confusion_matrix\n",
        "import plot_confusion_matrix"
      ]
    },
    {
      "cell_type": "code",
      "execution_count": 3,
      "metadata": {
        "colab": {
          "base_uri": "https://localhost:8080/",
          "height": 790
        },
        "id": "T01MGm5eFaWP",
        "outputId": "a9bea1c3-76f1-45d9-cb86-cbb3d114443c"
      },
      "outputs": [
        {
          "data": {
            "text/html": [
              "<div>\n",
              "<style scoped>\n",
              "    .dataframe tbody tr th:only-of-type {\n",
              "        vertical-align: middle;\n",
              "    }\n",
              "\n",
              "    .dataframe tbody tr th {\n",
              "        vertical-align: top;\n",
              "    }\n",
              "\n",
              "    .dataframe thead th {\n",
              "        text-align: right;\n",
              "    }\n",
              "</style>\n",
              "<table border=\"1\" class=\"dataframe\">\n",
              "  <thead>\n",
              "    <tr style=\"text-align: right;\">\n",
              "      <th></th>\n",
              "      <th>ID</th>\n",
              "      <th>F1</th>\n",
              "      <th>P1_1</th>\n",
              "      <th>P1_2</th>\n",
              "      <th>P1_3</th>\n",
              "      <th>P1_4</th>\n",
              "      <th>P1_5</th>\n",
              "      <th>P1_6</th>\n",
              "      <th>P1_7</th>\n",
              "      <th>P1_8</th>\n",
              "      <th>...</th>\n",
              "      <th>P6_1_1_1</th>\n",
              "      <th>P6_1_2_1</th>\n",
              "      <th>P6_1_3_1</th>\n",
              "      <th>P6_1_4_1</th>\n",
              "      <th>P7</th>\n",
              "      <th>P8</th>\n",
              "      <th>P9</th>\n",
              "      <th>D1</th>\n",
              "      <th>D2</th>\n",
              "      <th>D3</th>\n",
              "    </tr>\n",
              "  </thead>\n",
              "  <tbody>\n",
              "    <tr>\n",
              "      <th>0</th>\n",
              "      <td>1</td>\n",
              "      <td>Menos de un mes</td>\n",
              "      <td>5.0</td>\n",
              "      <td>5.0</td>\n",
              "      <td>5.0</td>\n",
              "      <td>5.0</td>\n",
              "      <td>5.0</td>\n",
              "      <td>5.0</td>\n",
              "      <td>4.0</td>\n",
              "      <td>5.0</td>\n",
              "      <td>...</td>\n",
              "      <td>2000.0</td>\n",
              "      <td>200.0</td>\n",
              "      <td>0.0</td>\n",
              "      <td>160.0</td>\n",
              "      <td>Totalmente satisfecho</td>\n",
              "      <td>Muy probablemente sí</td>\n",
              "      <td>Definitivamente sí lo recomendaría</td>\n",
              "      <td>Femenino</td>\n",
              "      <td>28.0</td>\n",
              "      <td>Empleado</td>\n",
              "    </tr>\n",
              "    <tr>\n",
              "      <th>1</th>\n",
              "      <td>2</td>\n",
              "      <td>Menos de un mes</td>\n",
              "      <td>4.0</td>\n",
              "      <td>3.0</td>\n",
              "      <td>5.0</td>\n",
              "      <td>3.0</td>\n",
              "      <td>4.0</td>\n",
              "      <td>4.0</td>\n",
              "      <td>4.0</td>\n",
              "      <td>5.0</td>\n",
              "      <td>...</td>\n",
              "      <td>2000.0</td>\n",
              "      <td>200.0</td>\n",
              "      <td>0.0</td>\n",
              "      <td>250.0</td>\n",
              "      <td>Totalmente satisfecho</td>\n",
              "      <td>Muy probablemente sí</td>\n",
              "      <td>Definitivamente sí lo recomendaría</td>\n",
              "      <td>Femenino</td>\n",
              "      <td>49.0</td>\n",
              "      <td>Empleado</td>\n",
              "    </tr>\n",
              "    <tr>\n",
              "      <th>2</th>\n",
              "      <td>3</td>\n",
              "      <td>Menos de una semana</td>\n",
              "      <td>4.0</td>\n",
              "      <td>3.0</td>\n",
              "      <td>5.0</td>\n",
              "      <td>4.0</td>\n",
              "      <td>4.0</td>\n",
              "      <td>4.0</td>\n",
              "      <td>4.0</td>\n",
              "      <td>5.0</td>\n",
              "      <td>...</td>\n",
              "      <td>2500.0</td>\n",
              "      <td>200.0</td>\n",
              "      <td>0.0</td>\n",
              "      <td>250.0</td>\n",
              "      <td>Totalmente satisfecho</td>\n",
              "      <td>Muy probablemente sí</td>\n",
              "      <td>Definitivamente sí lo recomendaría</td>\n",
              "      <td>Femenino</td>\n",
              "      <td>49.0</td>\n",
              "      <td>Empleado</td>\n",
              "    </tr>\n",
              "    <tr>\n",
              "      <th>3</th>\n",
              "      <td>4</td>\n",
              "      <td>Menos de una semana</td>\n",
              "      <td>4.0</td>\n",
              "      <td>4.0</td>\n",
              "      <td>5.0</td>\n",
              "      <td>5.0</td>\n",
              "      <td>5.0</td>\n",
              "      <td>5.0</td>\n",
              "      <td>4.0</td>\n",
              "      <td>5.0</td>\n",
              "      <td>...</td>\n",
              "      <td>0.0</td>\n",
              "      <td>0.0</td>\n",
              "      <td>0.0</td>\n",
              "      <td>0.0</td>\n",
              "      <td>Totalmente satisfecho</td>\n",
              "      <td>Muy probablemente sí</td>\n",
              "      <td>Definitivamente sí lo recomendaría</td>\n",
              "      <td>Femenino</td>\n",
              "      <td>25.0</td>\n",
              "      <td>Empleado</td>\n",
              "    </tr>\n",
              "    <tr>\n",
              "      <th>4</th>\n",
              "      <td>5</td>\n",
              "      <td>Menos de una semana</td>\n",
              "      <td>4.0</td>\n",
              "      <td>4.0</td>\n",
              "      <td>5.0</td>\n",
              "      <td>5.0</td>\n",
              "      <td>3.0</td>\n",
              "      <td>3.0</td>\n",
              "      <td>3.0</td>\n",
              "      <td>4.0</td>\n",
              "      <td>...</td>\n",
              "      <td>250.0</td>\n",
              "      <td>50.0</td>\n",
              "      <td>100.0</td>\n",
              "      <td>250.0</td>\n",
              "      <td>Totalmente satisfecho</td>\n",
              "      <td>Muy probablemente sí</td>\n",
              "      <td>Definitivamente sí lo recomendaría</td>\n",
              "      <td>Femenino</td>\n",
              "      <td>17.0</td>\n",
              "      <td>Estudiante</td>\n",
              "    </tr>\n",
              "    <tr>\n",
              "      <th>...</th>\n",
              "      <td>...</td>\n",
              "      <td>...</td>\n",
              "      <td>...</td>\n",
              "      <td>...</td>\n",
              "      <td>...</td>\n",
              "      <td>...</td>\n",
              "      <td>...</td>\n",
              "      <td>...</td>\n",
              "      <td>...</td>\n",
              "      <td>...</td>\n",
              "      <td>...</td>\n",
              "      <td>...</td>\n",
              "      <td>...</td>\n",
              "      <td>...</td>\n",
              "      <td>...</td>\n",
              "      <td>...</td>\n",
              "      <td>...</td>\n",
              "      <td>...</td>\n",
              "      <td>...</td>\n",
              "      <td>...</td>\n",
              "      <td>...</td>\n",
              "    </tr>\n",
              "    <tr>\n",
              "      <th>486</th>\n",
              "      <td>487</td>\n",
              "      <td>Menos de una semana</td>\n",
              "      <td>NaN</td>\n",
              "      <td>NaN</td>\n",
              "      <td>NaN</td>\n",
              "      <td>NaN</td>\n",
              "      <td>NaN</td>\n",
              "      <td>NaN</td>\n",
              "      <td>NaN</td>\n",
              "      <td>NaN</td>\n",
              "      <td>...</td>\n",
              "      <td>NaN</td>\n",
              "      <td>NaN</td>\n",
              "      <td>NaN</td>\n",
              "      <td>NaN</td>\n",
              "      <td>NaN</td>\n",
              "      <td>NaN</td>\n",
              "      <td>NaN</td>\n",
              "      <td>NaN</td>\n",
              "      <td>NaN</td>\n",
              "      <td>NaN</td>\n",
              "    </tr>\n",
              "    <tr>\n",
              "      <th>487</th>\n",
              "      <td>488</td>\n",
              "      <td>Menos de una semana</td>\n",
              "      <td>4.0</td>\n",
              "      <td>4.0</td>\n",
              "      <td>5.0</td>\n",
              "      <td>3.0</td>\n",
              "      <td>5.0</td>\n",
              "      <td>5.0</td>\n",
              "      <td>5.0</td>\n",
              "      <td>5.0</td>\n",
              "      <td>...</td>\n",
              "      <td>NaN</td>\n",
              "      <td>NaN</td>\n",
              "      <td>NaN</td>\n",
              "      <td>NaN</td>\n",
              "      <td>NaN</td>\n",
              "      <td>NaN</td>\n",
              "      <td>NaN</td>\n",
              "      <td>NaN</td>\n",
              "      <td>NaN</td>\n",
              "      <td>NaN</td>\n",
              "    </tr>\n",
              "    <tr>\n",
              "      <th>488</th>\n",
              "      <td>489</td>\n",
              "      <td>Menos de una semana</td>\n",
              "      <td>3.0</td>\n",
              "      <td>4.0</td>\n",
              "      <td>5.0</td>\n",
              "      <td>4.0</td>\n",
              "      <td>3.0</td>\n",
              "      <td>4.0</td>\n",
              "      <td>3.0</td>\n",
              "      <td>3.0</td>\n",
              "      <td>...</td>\n",
              "      <td>0.0</td>\n",
              "      <td>0.0</td>\n",
              "      <td>0.0</td>\n",
              "      <td>0.0</td>\n",
              "      <td>NaN</td>\n",
              "      <td>NaN</td>\n",
              "      <td>NaN</td>\n",
              "      <td>NaN</td>\n",
              "      <td>NaN</td>\n",
              "      <td>NaN</td>\n",
              "    </tr>\n",
              "    <tr>\n",
              "      <th>489</th>\n",
              "      <td>490</td>\n",
              "      <td>Menos de una semana</td>\n",
              "      <td>4.0</td>\n",
              "      <td>3.0</td>\n",
              "      <td>4.0</td>\n",
              "      <td>5.0</td>\n",
              "      <td>4.0</td>\n",
              "      <td>5.0</td>\n",
              "      <td>3.0</td>\n",
              "      <td>5.0</td>\n",
              "      <td>...</td>\n",
              "      <td>NaN</td>\n",
              "      <td>NaN</td>\n",
              "      <td>NaN</td>\n",
              "      <td>NaN</td>\n",
              "      <td>NaN</td>\n",
              "      <td>NaN</td>\n",
              "      <td>NaN</td>\n",
              "      <td>NaN</td>\n",
              "      <td>NaN</td>\n",
              "      <td>NaN</td>\n",
              "    </tr>\n",
              "    <tr>\n",
              "      <th>490</th>\n",
              "      <td>491</td>\n",
              "      <td>Menos de una semana</td>\n",
              "      <td>4.0</td>\n",
              "      <td>2.0</td>\n",
              "      <td>5.0</td>\n",
              "      <td>2.0</td>\n",
              "      <td>3.0</td>\n",
              "      <td>5.0</td>\n",
              "      <td>3.0</td>\n",
              "      <td>4.0</td>\n",
              "      <td>...</td>\n",
              "      <td>300.0</td>\n",
              "      <td>0.0</td>\n",
              "      <td>150.0</td>\n",
              "      <td>0.0</td>\n",
              "      <td>Totalmente satisfecho</td>\n",
              "      <td>Muy probablemente sí</td>\n",
              "      <td>Definitivamente sí lo recomendaría</td>\n",
              "      <td>NaN</td>\n",
              "      <td>NaN</td>\n",
              "      <td>NaN</td>\n",
              "    </tr>\n",
              "  </tbody>\n",
              "</table>\n",
              "<p>491 rows × 44 columns</p>\n",
              "</div>"
            ],
            "text/plain": [
              "      ID                   F1  P1_1  P1_2  P1_3  P1_4  P1_5  P1_6  P1_7  P1_8  \\\n",
              "0      1      Menos de un mes   5.0   5.0   5.0   5.0   5.0   5.0   4.0   5.0   \n",
              "1      2      Menos de un mes   4.0   3.0   5.0   3.0   4.0   4.0   4.0   5.0   \n",
              "2      3  Menos de una semana   4.0   3.0   5.0   4.0   4.0   4.0   4.0   5.0   \n",
              "3      4  Menos de una semana   4.0   4.0   5.0   5.0   5.0   5.0   4.0   5.0   \n",
              "4      5  Menos de una semana   4.0   4.0   5.0   5.0   3.0   3.0   3.0   4.0   \n",
              "..   ...                  ...   ...   ...   ...   ...   ...   ...   ...   ...   \n",
              "486  487  Menos de una semana   NaN   NaN   NaN   NaN   NaN   NaN   NaN   NaN   \n",
              "487  488  Menos de una semana   4.0   4.0   5.0   3.0   5.0   5.0   5.0   5.0   \n",
              "488  489  Menos de una semana   3.0   4.0   5.0   4.0   3.0   4.0   3.0   3.0   \n",
              "489  490  Menos de una semana   4.0   3.0   4.0   5.0   4.0   5.0   3.0   5.0   \n",
              "490  491  Menos de una semana   4.0   2.0   5.0   2.0   3.0   5.0   3.0   4.0   \n",
              "\n",
              "     ...  P6_1_1_1  P6_1_2_1 P6_1_3_1 P6_1_4_1                     P7  \\\n",
              "0    ...    2000.0     200.0      0.0    160.0  Totalmente satisfecho   \n",
              "1    ...    2000.0     200.0      0.0    250.0  Totalmente satisfecho   \n",
              "2    ...    2500.0     200.0      0.0    250.0  Totalmente satisfecho   \n",
              "3    ...       0.0       0.0      0.0      0.0  Totalmente satisfecho   \n",
              "4    ...     250.0      50.0    100.0    250.0  Totalmente satisfecho   \n",
              "..   ...       ...       ...      ...      ...                    ...   \n",
              "486  ...       NaN       NaN      NaN      NaN                    NaN   \n",
              "487  ...       NaN       NaN      NaN      NaN                    NaN   \n",
              "488  ...       0.0       0.0      0.0      0.0                    NaN   \n",
              "489  ...       NaN       NaN      NaN      NaN                    NaN   \n",
              "490  ...     300.0       0.0    150.0      0.0  Totalmente satisfecho   \n",
              "\n",
              "                       P8                                  P9        D1    D2  \\\n",
              "0    Muy probablemente sí  Definitivamente sí lo recomendaría  Femenino  28.0   \n",
              "1    Muy probablemente sí  Definitivamente sí lo recomendaría  Femenino  49.0   \n",
              "2    Muy probablemente sí  Definitivamente sí lo recomendaría  Femenino  49.0   \n",
              "3    Muy probablemente sí  Definitivamente sí lo recomendaría  Femenino  25.0   \n",
              "4    Muy probablemente sí  Definitivamente sí lo recomendaría  Femenino  17.0   \n",
              "..                    ...                                 ...       ...   ...   \n",
              "486                   NaN                                 NaN       NaN   NaN   \n",
              "487                   NaN                                 NaN       NaN   NaN   \n",
              "488                   NaN                                 NaN       NaN   NaN   \n",
              "489                   NaN                                 NaN       NaN   NaN   \n",
              "490  Muy probablemente sí  Definitivamente sí lo recomendaría       NaN   NaN   \n",
              "\n",
              "             D3  \n",
              "0      Empleado  \n",
              "1      Empleado  \n",
              "2      Empleado  \n",
              "3      Empleado  \n",
              "4    Estudiante  \n",
              "..          ...  \n",
              "486         NaN  \n",
              "487         NaN  \n",
              "488         NaN  \n",
              "489         NaN  \n",
              "490         NaN  \n",
              "\n",
              "[491 rows x 44 columns]"
            ]
          },
          "execution_count": 3,
          "metadata": {},
          "output_type": "execute_result"
        }
      ],
      "source": [
        "#Abriendo base de datos\n",
        "#IMPORTANTE: Para utilizar las técnicas de clasificación de la librería sklearn es necesario que todas las variables independientes estén codificadas como números\n",
        "\n",
        "path =\"C:/Users/Vane/Documents/Portafolio/decisiontree_andares_db.xlsx\"\n",
        "dataa = pd.read_excel(path)\n",
        "dataa"
      ]
    },
    {
      "cell_type": "code",
      "execution_count": 4,
      "metadata": {
        "colab": {
          "base_uri": "https://localhost:8080/",
          "height": 478
        },
        "id": "2gjwbCDJ7AK-",
        "outputId": "d51ef394-8585-43d4-d618-02e2d2d0fe0f"
      },
      "outputs": [
        {
          "data": {
            "text/html": [
              "<div>\n",
              "<style scoped>\n",
              "    .dataframe tbody tr th:only-of-type {\n",
              "        vertical-align: middle;\n",
              "    }\n",
              "\n",
              "    .dataframe tbody tr th {\n",
              "        vertical-align: top;\n",
              "    }\n",
              "\n",
              "    .dataframe thead th {\n",
              "        text-align: right;\n",
              "    }\n",
              "</style>\n",
              "<table border=\"1\" class=\"dataframe\">\n",
              "  <thead>\n",
              "    <tr style=\"text-align: right;\">\n",
              "      <th></th>\n",
              "      <th>ID</th>\n",
              "      <th>P1_1</th>\n",
              "      <th>P1_2</th>\n",
              "      <th>P1_3</th>\n",
              "      <th>P1_4</th>\n",
              "      <th>P1_5</th>\n",
              "      <th>P1_6</th>\n",
              "      <th>P1_7</th>\n",
              "      <th>P1_8</th>\n",
              "      <th>P1_9</th>\n",
              "      <th>...</th>\n",
              "      <th>P9_Definitivamente sí lo recomendaría</th>\n",
              "      <th>P9_No lo recomendaría</th>\n",
              "      <th>D1_Femenino</th>\n",
              "      <th>D1_Masculino</th>\n",
              "      <th>D3_Empleado</th>\n",
              "      <th>D3_Estudiante</th>\n",
              "      <th>D3_Jubilado</th>\n",
              "      <th>D3_Trabajador independiente</th>\n",
              "      <th>P8_Muy probablemente sí</th>\n",
              "      <th>P8_No es seguro</th>\n",
              "    </tr>\n",
              "  </thead>\n",
              "  <tbody>\n",
              "    <tr>\n",
              "      <th>0</th>\n",
              "      <td>1</td>\n",
              "      <td>5.0</td>\n",
              "      <td>5.0</td>\n",
              "      <td>5.0</td>\n",
              "      <td>5.0</td>\n",
              "      <td>5.0</td>\n",
              "      <td>5.0</td>\n",
              "      <td>4.0</td>\n",
              "      <td>5.0</td>\n",
              "      <td>4.0</td>\n",
              "      <td>...</td>\n",
              "      <td>True</td>\n",
              "      <td>False</td>\n",
              "      <td>True</td>\n",
              "      <td>False</td>\n",
              "      <td>True</td>\n",
              "      <td>False</td>\n",
              "      <td>False</td>\n",
              "      <td>False</td>\n",
              "      <td>True</td>\n",
              "      <td>False</td>\n",
              "    </tr>\n",
              "    <tr>\n",
              "      <th>1</th>\n",
              "      <td>2</td>\n",
              "      <td>4.0</td>\n",
              "      <td>3.0</td>\n",
              "      <td>5.0</td>\n",
              "      <td>3.0</td>\n",
              "      <td>4.0</td>\n",
              "      <td>4.0</td>\n",
              "      <td>4.0</td>\n",
              "      <td>5.0</td>\n",
              "      <td>1.0</td>\n",
              "      <td>...</td>\n",
              "      <td>True</td>\n",
              "      <td>False</td>\n",
              "      <td>True</td>\n",
              "      <td>False</td>\n",
              "      <td>True</td>\n",
              "      <td>False</td>\n",
              "      <td>False</td>\n",
              "      <td>False</td>\n",
              "      <td>True</td>\n",
              "      <td>False</td>\n",
              "    </tr>\n",
              "    <tr>\n",
              "      <th>2</th>\n",
              "      <td>3</td>\n",
              "      <td>4.0</td>\n",
              "      <td>3.0</td>\n",
              "      <td>5.0</td>\n",
              "      <td>4.0</td>\n",
              "      <td>4.0</td>\n",
              "      <td>4.0</td>\n",
              "      <td>4.0</td>\n",
              "      <td>5.0</td>\n",
              "      <td>3.0</td>\n",
              "      <td>...</td>\n",
              "      <td>True</td>\n",
              "      <td>False</td>\n",
              "      <td>True</td>\n",
              "      <td>False</td>\n",
              "      <td>True</td>\n",
              "      <td>False</td>\n",
              "      <td>False</td>\n",
              "      <td>False</td>\n",
              "      <td>True</td>\n",
              "      <td>False</td>\n",
              "    </tr>\n",
              "    <tr>\n",
              "      <th>3</th>\n",
              "      <td>4</td>\n",
              "      <td>4.0</td>\n",
              "      <td>4.0</td>\n",
              "      <td>5.0</td>\n",
              "      <td>5.0</td>\n",
              "      <td>5.0</td>\n",
              "      <td>5.0</td>\n",
              "      <td>4.0</td>\n",
              "      <td>5.0</td>\n",
              "      <td>3.0</td>\n",
              "      <td>...</td>\n",
              "      <td>True</td>\n",
              "      <td>False</td>\n",
              "      <td>True</td>\n",
              "      <td>False</td>\n",
              "      <td>True</td>\n",
              "      <td>False</td>\n",
              "      <td>False</td>\n",
              "      <td>False</td>\n",
              "      <td>True</td>\n",
              "      <td>False</td>\n",
              "    </tr>\n",
              "    <tr>\n",
              "      <th>4</th>\n",
              "      <td>5</td>\n",
              "      <td>4.0</td>\n",
              "      <td>4.0</td>\n",
              "      <td>5.0</td>\n",
              "      <td>5.0</td>\n",
              "      <td>3.0</td>\n",
              "      <td>3.0</td>\n",
              "      <td>3.0</td>\n",
              "      <td>4.0</td>\n",
              "      <td>3.0</td>\n",
              "      <td>...</td>\n",
              "      <td>True</td>\n",
              "      <td>False</td>\n",
              "      <td>True</td>\n",
              "      <td>False</td>\n",
              "      <td>False</td>\n",
              "      <td>True</td>\n",
              "      <td>False</td>\n",
              "      <td>False</td>\n",
              "      <td>True</td>\n",
              "      <td>False</td>\n",
              "    </tr>\n",
              "    <tr>\n",
              "      <th>...</th>\n",
              "      <td>...</td>\n",
              "      <td>...</td>\n",
              "      <td>...</td>\n",
              "      <td>...</td>\n",
              "      <td>...</td>\n",
              "      <td>...</td>\n",
              "      <td>...</td>\n",
              "      <td>...</td>\n",
              "      <td>...</td>\n",
              "      <td>...</td>\n",
              "      <td>...</td>\n",
              "      <td>...</td>\n",
              "      <td>...</td>\n",
              "      <td>...</td>\n",
              "      <td>...</td>\n",
              "      <td>...</td>\n",
              "      <td>...</td>\n",
              "      <td>...</td>\n",
              "      <td>...</td>\n",
              "      <td>...</td>\n",
              "      <td>...</td>\n",
              "    </tr>\n",
              "    <tr>\n",
              "      <th>486</th>\n",
              "      <td>487</td>\n",
              "      <td>NaN</td>\n",
              "      <td>NaN</td>\n",
              "      <td>NaN</td>\n",
              "      <td>NaN</td>\n",
              "      <td>NaN</td>\n",
              "      <td>NaN</td>\n",
              "      <td>NaN</td>\n",
              "      <td>NaN</td>\n",
              "      <td>NaN</td>\n",
              "      <td>...</td>\n",
              "      <td>False</td>\n",
              "      <td>False</td>\n",
              "      <td>False</td>\n",
              "      <td>False</td>\n",
              "      <td>False</td>\n",
              "      <td>False</td>\n",
              "      <td>False</td>\n",
              "      <td>False</td>\n",
              "      <td>False</td>\n",
              "      <td>False</td>\n",
              "    </tr>\n",
              "    <tr>\n",
              "      <th>487</th>\n",
              "      <td>488</td>\n",
              "      <td>4.0</td>\n",
              "      <td>4.0</td>\n",
              "      <td>5.0</td>\n",
              "      <td>3.0</td>\n",
              "      <td>5.0</td>\n",
              "      <td>5.0</td>\n",
              "      <td>5.0</td>\n",
              "      <td>5.0</td>\n",
              "      <td>4.0</td>\n",
              "      <td>...</td>\n",
              "      <td>False</td>\n",
              "      <td>False</td>\n",
              "      <td>False</td>\n",
              "      <td>False</td>\n",
              "      <td>False</td>\n",
              "      <td>False</td>\n",
              "      <td>False</td>\n",
              "      <td>False</td>\n",
              "      <td>False</td>\n",
              "      <td>False</td>\n",
              "    </tr>\n",
              "    <tr>\n",
              "      <th>488</th>\n",
              "      <td>489</td>\n",
              "      <td>3.0</td>\n",
              "      <td>4.0</td>\n",
              "      <td>5.0</td>\n",
              "      <td>4.0</td>\n",
              "      <td>3.0</td>\n",
              "      <td>4.0</td>\n",
              "      <td>3.0</td>\n",
              "      <td>3.0</td>\n",
              "      <td>4.0</td>\n",
              "      <td>...</td>\n",
              "      <td>False</td>\n",
              "      <td>False</td>\n",
              "      <td>False</td>\n",
              "      <td>False</td>\n",
              "      <td>False</td>\n",
              "      <td>False</td>\n",
              "      <td>False</td>\n",
              "      <td>False</td>\n",
              "      <td>False</td>\n",
              "      <td>False</td>\n",
              "    </tr>\n",
              "    <tr>\n",
              "      <th>489</th>\n",
              "      <td>490</td>\n",
              "      <td>4.0</td>\n",
              "      <td>3.0</td>\n",
              "      <td>4.0</td>\n",
              "      <td>5.0</td>\n",
              "      <td>4.0</td>\n",
              "      <td>5.0</td>\n",
              "      <td>3.0</td>\n",
              "      <td>5.0</td>\n",
              "      <td>4.0</td>\n",
              "      <td>...</td>\n",
              "      <td>False</td>\n",
              "      <td>False</td>\n",
              "      <td>False</td>\n",
              "      <td>False</td>\n",
              "      <td>False</td>\n",
              "      <td>False</td>\n",
              "      <td>False</td>\n",
              "      <td>False</td>\n",
              "      <td>False</td>\n",
              "      <td>False</td>\n",
              "    </tr>\n",
              "    <tr>\n",
              "      <th>490</th>\n",
              "      <td>491</td>\n",
              "      <td>4.0</td>\n",
              "      <td>2.0</td>\n",
              "      <td>5.0</td>\n",
              "      <td>2.0</td>\n",
              "      <td>3.0</td>\n",
              "      <td>5.0</td>\n",
              "      <td>3.0</td>\n",
              "      <td>4.0</td>\n",
              "      <td>4.0</td>\n",
              "      <td>...</td>\n",
              "      <td>True</td>\n",
              "      <td>False</td>\n",
              "      <td>False</td>\n",
              "      <td>False</td>\n",
              "      <td>False</td>\n",
              "      <td>False</td>\n",
              "      <td>False</td>\n",
              "      <td>False</td>\n",
              "      <td>True</td>\n",
              "      <td>False</td>\n",
              "    </tr>\n",
              "  </tbody>\n",
              "</table>\n",
              "<p>491 rows × 56 columns</p>\n",
              "</div>"
            ],
            "text/plain": [
              "      ID  P1_1  P1_2  P1_3  P1_4  P1_5  P1_6  P1_7  P1_8  P1_9  ...  \\\n",
              "0      1   5.0   5.0   5.0   5.0   5.0   5.0   4.0   5.0   4.0  ...   \n",
              "1      2   4.0   3.0   5.0   3.0   4.0   4.0   4.0   5.0   1.0  ...   \n",
              "2      3   4.0   3.0   5.0   4.0   4.0   4.0   4.0   5.0   3.0  ...   \n",
              "3      4   4.0   4.0   5.0   5.0   5.0   5.0   4.0   5.0   3.0  ...   \n",
              "4      5   4.0   4.0   5.0   5.0   3.0   3.0   3.0   4.0   3.0  ...   \n",
              "..   ...   ...   ...   ...   ...   ...   ...   ...   ...   ...  ...   \n",
              "486  487   NaN   NaN   NaN   NaN   NaN   NaN   NaN   NaN   NaN  ...   \n",
              "487  488   4.0   4.0   5.0   3.0   5.0   5.0   5.0   5.0   4.0  ...   \n",
              "488  489   3.0   4.0   5.0   4.0   3.0   4.0   3.0   3.0   4.0  ...   \n",
              "489  490   4.0   3.0   4.0   5.0   4.0   5.0   3.0   5.0   4.0  ...   \n",
              "490  491   4.0   2.0   5.0   2.0   3.0   5.0   3.0   4.0   4.0  ...   \n",
              "\n",
              "     P9_Definitivamente sí lo recomendaría P9_No lo recomendaría D1_Femenino  \\\n",
              "0                                     True                 False        True   \n",
              "1                                     True                 False        True   \n",
              "2                                     True                 False        True   \n",
              "3                                     True                 False        True   \n",
              "4                                     True                 False        True   \n",
              "..                                     ...                   ...         ...   \n",
              "486                                  False                 False       False   \n",
              "487                                  False                 False       False   \n",
              "488                                  False                 False       False   \n",
              "489                                  False                 False       False   \n",
              "490                                   True                 False       False   \n",
              "\n",
              "    D1_Masculino D3_Empleado D3_Estudiante D3_Jubilado  \\\n",
              "0          False        True         False       False   \n",
              "1          False        True         False       False   \n",
              "2          False        True         False       False   \n",
              "3          False        True         False       False   \n",
              "4          False       False          True       False   \n",
              "..           ...         ...           ...         ...   \n",
              "486        False       False         False       False   \n",
              "487        False       False         False       False   \n",
              "488        False       False         False       False   \n",
              "489        False       False         False       False   \n",
              "490        False       False         False       False   \n",
              "\n",
              "    D3_Trabajador independiente P8_Muy probablemente sí P8_No es seguro  \n",
              "0                         False                    True           False  \n",
              "1                         False                    True           False  \n",
              "2                         False                    True           False  \n",
              "3                         False                    True           False  \n",
              "4                         False                    True           False  \n",
              "..                          ...                     ...             ...  \n",
              "486                       False                   False           False  \n",
              "487                       False                   False           False  \n",
              "488                       False                   False           False  \n",
              "489                       False                   False           False  \n",
              "490                       False                    True           False  \n",
              "\n",
              "[491 rows x 56 columns]"
            ]
          },
          "execution_count": 4,
          "metadata": {},
          "output_type": "execute_result"
        }
      ],
      "source": [
        "#Debido a que algunas de nuestras variables no estan convertidas a numericas,\n",
        "#vamos aconvertir esta vaiables en dummies y tomaremos solo la variable de las personas que si\n",
        "#recomendarian asissitr a la plaza para que sea nuestra variable dependiente.\n",
        "data = pd.get_dummies(dataa, columns=['F1','P7', 'P9', 'D1', 'D3', 'P8'])\n",
        "data"
      ]
    },
    {
      "cell_type": "code",
      "execution_count": 5,
      "metadata": {},
      "outputs": [],
      "source": [
        "# Convert boolean columns to integers\n",
        "for col in data.columns:\n",
        "    if data[col].dtype == 'bool':\n",
        "        data[col] = data[col].astype(int)"
      ]
    },
    {
      "cell_type": "code",
      "execution_count": 6,
      "metadata": {
        "colab": {
          "base_uri": "https://localhost:8080/",
          "height": 0
        },
        "id": "hfnXTG9HIoz5",
        "outputId": "645ce643-d170-4290-d3ae-3dd16fa3600c"
      },
      "outputs": [
        {
          "data": {
            "text/plain": [
              "P9_Definitivamente sí lo recomendaría\n",
              "1    246\n",
              "0    245\n",
              "Name: count, dtype: int64"
            ]
          },
          "execution_count": 6,
          "metadata": {},
          "output_type": "execute_result"
        }
      ],
      "source": [
        "# Calculamos las probabilidades a priori de que las personas si recomienden ir a andares.\n",
        "#El 1 son todas las personas que si lo reocmendarian mientras que el 0 es todas las personas que no lo recomendarian.\n",
        "data['P9_Definitivamente sí lo recomendaría'].value_counts()"
      ]
    },
    {
      "cell_type": "code",
      "execution_count": 7,
      "metadata": {
        "colab": {
          "base_uri": "https://localhost:8080/",
          "height": 0
        },
        "id": "S6uH5dFixfrD",
        "outputId": "7b9f2034-68b2-4874-ce42-2b46bb97dc67"
      },
      "outputs": [
        {
          "name": "stdout",
          "output_type": "stream",
          "text": [
            "Clases:\n",
            " 0      1\n",
            "1      1\n",
            "2      1\n",
            "3      1\n",
            "4      1\n",
            "      ..\n",
            "486    0\n",
            "487    0\n",
            "488    0\n",
            "489    0\n",
            "490    1\n",
            "Name: P9_Definitivamente sí lo recomendaría, Length: 491, dtype: int32\n"
          ]
        }
      ],
      "source": [
        "#Creamos nuestro vector de etiquetas para usarlas en la matriz de confusion y el arbol\n",
        "#este código está extrayendo y explorando las etiquetas asociadas con esa variable, aunque ya las habiamos convertido a dummies.\n",
        "\n",
        "y = data[\"P9_Definitivamente sí lo recomendaría\"]\n",
        "y[0:2]\n",
        "print('Clases:\\n', y)\n"
      ]
    },
    {
      "cell_type": "code",
      "execution_count": 8,
      "metadata": {
        "colab": {
          "base_uri": "https://localhost:8080/",
          "height": 0
        },
        "id": "fSV6D50I5Lvt",
        "outputId": "2de4596e-47ff-49a1-e5f7-dee3047dea44"
      },
      "outputs": [
        {
          "name": "stdout",
          "output_type": "stream",
          "text": [
            "Características:\n",
            " [[1 0 1 0 0 0]\n",
            " [1 0 1 0 0 0]\n",
            " [1 0 1 0 0 0]\n",
            " ...\n",
            " [0 0 0 0 0 0]\n",
            " [0 0 0 0 0 0]\n",
            " [0 0 0 0 0 0]]\n"
          ]
        }
      ],
      "source": [
        "#Creamos nuestro vector de variables independientes para que en el nodo padre\n",
        "#especifique cuales etiquetas tomar para las variables,\n",
        "#Cada fila es una entrada en tus datos y cada columna es una característica específica,\n",
        "#con este codigo nos aseguramos de que estamos listos para entrar en nuestro arbol de decision.\n",
        "x = data[['D1_Femenino', 'D1_Masculino', 'D3_Empleado', 'D3_Estudiante', 'D3_Jubilado', 'D3_Trabajador independiente']].values\n",
        "x[0:6]\n",
        "print('Características:\\n', x)\n"
      ]
    },
    {
      "cell_type": "code",
      "execution_count": 9,
      "metadata": {
        "colab": {
          "base_uri": "https://localhost:8080/",
          "height": 0
        },
        "id": "fbeOV_JsNFVy",
        "outputId": "5af5f497-f22e-47c6-d871-8dbdcd0e825e"
      },
      "outputs": [
        {
          "data": {
            "text/plain": [
              "array([[1, 5.0, 5.0, ..., 0, 0, 1],\n",
              "       [2, 4.0, 3.0, ..., 0, 0, 1],\n",
              "       [3, 4.0, 3.0, ..., 0, 0, 1],\n",
              "       ...,\n",
              "       [489, 3.0, 4.0, ..., 0, 0, 0],\n",
              "       [490, 4.0, 3.0, ..., 0, 0, 0],\n",
              "       [491, 4.0, 2.0, ..., 0, 0, 1]], dtype=object)"
            ]
          },
          "execution_count": 9,
          "metadata": {},
          "output_type": "execute_result"
        }
      ],
      "source": [
        "#Separando las variables independientes, selecciona todas menos la ultima que es la dependiente.\n",
        "#esto es una interpretacion de nuestros datos que utilizaremos para la construccion de nuestro arbol de decisiones.\n",
        "data_x = data.iloc[:,0:data.columns.size-1].values\n",
        "data_x"
      ]
    },
    {
      "cell_type": "code",
      "execution_count": 10,
      "metadata": {
        "colab": {
          "base_uri": "https://localhost:8080/",
          "height": 0
        },
        "id": "lxngzaYrOUIR",
        "outputId": "a78aafc3-fcf5-4e5d-fc80-03d80a2aad5f"
      },
      "outputs": [
        {
          "data": {
            "text/plain": [
              "array([0, 0, 0, 0, 0, 0, 0, 0, 1, 0, 0, 0, 0, 0, 0, 1, 0, 1, 1, 0, 0, 1,\n",
              "       0, 0, 0, 0, 0, 0, 1, 0, 0, 0, 0, 0, 0, 1, 0, 0, 0, 0, 0, 0, 0, 0,\n",
              "       0, 0, 0, 1, 0, 1, 0, 1, 0, 0, 0, 0, 0, 1, 0, 0, 0, 0, 0, 1, 0, 1,\n",
              "       0, 1, 0, 1, 0, 0, 0, 0, 1, 1, 1, 0, 1, 0, 0, 0, 0, 0, 0, 0, 0, 0,\n",
              "       0, 0, 0, 0, 0, 0, 0, 1, 0, 0, 0, 0, 1, 1, 0, 1, 0, 0, 0, 0, 0, 0,\n",
              "       0, 0, 1, 0, 0, 0, 0, 1, 0, 0, 0, 0, 0, 0, 0, 0, 0, 0, 0, 0, 1, 1,\n",
              "       0, 1, 0, 0, 1, 0, 1, 1, 1, 0, 0, 0, 0, 0, 1, 0, 0, 0, 0, 1, 0, 0,\n",
              "       0, 1, 0, 0, 1, 0, 0, 0, 0, 0, 0, 0, 0, 0, 1, 1, 1, 0, 0, 0, 0, 0,\n",
              "       1, 0, 1, 0, 0, 0, 0, 0, 0, 1, 0, 0, 0, 0, 1, 1, 1, 0, 0, 0, 0, 0,\n",
              "       0, 0, 0, 0, 1, 0, 0, 1, 0, 0, 0, 0, 0, 0, 0, 0, 0, 1, 1, 0, 1, 0,\n",
              "       0, 0, 0, 0, 1, 1, 1, 0, 0, 0, 0, 0, 0, 1, 0, 0, 0, 0, 1, 0, 1, 0,\n",
              "       1, 1, 1, 1, 1, 0, 1, 0, 0, 0, 1, 0, 0, 1, 0, 1, 0, 1, 0, 0, 0, 1,\n",
              "       0, 0, 0, 0, 0, 1, 1, 0, 0, 0, 1, 0, 0, 0, 1, 1, 0, 0, 1, 0, 1, 1,\n",
              "       1, 0, 0, 1, 0, 0, 1, 0, 0, 0, 1, 0, 0, 1, 1, 0, 0, 0, 0, 1, 0, 0,\n",
              "       0, 1, 0, 0, 1, 0, 0, 0, 1, 1, 0, 1, 0, 0, 0, 0, 1, 0, 1, 0, 0, 1,\n",
              "       0, 0, 0, 0, 0, 0, 0, 0, 0, 1, 0, 1, 0, 0, 0, 1, 1, 1, 1, 1, 0, 1,\n",
              "       1, 1, 0, 1, 0, 0, 0, 0, 0, 1, 1, 0, 0, 1, 1, 0, 0, 0, 0, 0, 0, 0,\n",
              "       0, 0, 0, 0, 0, 0, 0, 0, 0, 0, 0, 0, 1, 0, 0, 0, 1, 0, 0, 0, 1, 0,\n",
              "       0, 0, 1, 0, 0, 0, 0, 0, 1, 0, 0, 0, 0, 1, 0, 0, 0, 0, 0, 0, 0, 0,\n",
              "       0, 0, 1, 1, 0, 0, 0, 0, 0, 0, 0, 0, 0, 0, 0, 1, 0, 0, 0, 0, 0, 0,\n",
              "       1, 0, 0, 0, 0, 0, 0, 0, 0, 1, 0, 0, 0, 0, 1, 0, 0, 0, 0, 0, 1, 0,\n",
              "       0, 1, 0, 0, 0, 0, 1, 0, 0, 0, 0, 0, 0, 0, 0, 0, 0, 0, 0, 0, 0, 0,\n",
              "       0, 0, 0, 0, 0, 0, 0])"
            ]
          },
          "execution_count": 10,
          "metadata": {},
          "output_type": "execute_result"
        }
      ],
      "source": [
        "#Separando la variable dependiente\n",
        "#Hacemos el mismo proceso que con las variables indepientes pero con nuestra variable dependiente.\n",
        "data_y = data.iloc[:,data.columns.size-1].values\n",
        "data_y"
      ]
    },
    {
      "cell_type": "code",
      "execution_count": 11,
      "metadata": {
        "colab": {
          "base_uri": "https://localhost:8080/",
          "height": 0
        },
        "id": "Kp23I_zOPGch",
        "outputId": "acd13dc4-a9f7-4d98-a8cf-4f6d7067eefb"
      },
      "outputs": [
        {
          "name": "stdout",
          "output_type": "stream",
          "text": [
            "[[37 3.0 3.0 ... 0 0 1]\n",
            " [311 4.0 4.0 ... 0 0 1]\n",
            " [127 3.0 3.0 ... 0 0 1]\n",
            " ...\n",
            " [313 4.0 4.0 ... 0 0 0]\n",
            " [399 4.0 3.0 ... 0 0 0]\n",
            " [430 nan nan ... 0 0 0]]\n"
          ]
        }
      ],
      "source": [
        "#Partición de la muestra en Train y Test\n",
        "train_x, test_x, train_y, test_y = train_test_split(data_x, data_y, test_size= 0.30, random_state = 363)\n",
        "print(train_x)"
      ]
    },
    {
      "cell_type": "code",
      "execution_count": 12,
      "metadata": {
        "id": "jgRNmnV8ZqiE"
      },
      "outputs": [],
      "source": [
        "#Empezamos a modelar nuestro árbol de decisiones con un criterio llamado entropía, este nos\n",
        "#Entregará la ganancia de información que nos ayudará a mirar si construimos bien nuestro árbol porque mide las impurezas\n",
        "arbol = DecisionTreeClassifier (criterion=\"entropy\", max_depth = 4) #Número máximo de nódulos en el árbol\n"
      ]
    },
    {
      "cell_type": "code",
      "execution_count": 13,
      "metadata": {
        "colab": {
          "base_uri": "https://localhost:8080/",
          "height": 0
        },
        "id": "x5LqfbkkDo_A",
        "outputId": "ad4c281a-64c2-49f1-ce7f-f3b9432dcb79"
      },
      "outputs": [
        {
          "name": "stdout",
          "output_type": "stream",
          "text": [
            "object\n",
            "int32\n"
          ]
        }
      ],
      "source": [
        "#Como no corrio nuestro arbol de decision, creemos que lo mejor es buscar que tipo de objeto tene,os.\n",
        "print(train_x.dtype)\n",
        "print(train_y.dtype)\n"
      ]
    },
    {
      "cell_type": "code",
      "execution_count": 14,
      "metadata": {},
      "outputs": [
        {
          "name": "stdout",
          "output_type": "stream",
          "text": [
            "Numeric Columns:\n",
            "[ 0  1  2  3  4  5  6  7  8  9 10 22 23 24 25 26 27 28 29 30 31 33 34 35\n",
            " 36 37 38 39 40 41 42 43 44 45 46 47 48 49 50 51 52 53 54 55]\n",
            "Categorical Columns:\n",
            "[11 12 13 14 15 16 17 18 19 20 21 32]\n",
            "First 5 rows of train_x:\n",
            "[[37 3.0 3.0 5.0 4.0 4.0 5.0 3.0 4.0 4.0 4.0 'Sí' 'Sí' 'No' 'Sí' 'No'\n",
            "  'No' 'No' 'No' 'No' 'No' 'Sí' 5.0 4.0 5.0 5.0 4.0 5.0 4.0 5.0 5.0 5.0\n",
            "  'Sí' 500.0 500.0 300.0 500.0 22.0 0 0 0 1 0 0 0 1 1 0 0 1 0 1 0 0 1]\n",
            " [311 4.0 4.0 5.0 5.0 3.0 3.0 1.0 5.0 3.0 5.0 'Sí' 'Sí' 'Sí' 'No' 'No'\n",
            "  'No' 'No' 'No' 'No' 'No' 'Sí' 3.0 3.0 3.0 3.0 3.0 3.0 3.0 3.0 3.0 5.0\n",
            "  'No' 0.0 0.0 0.0 0.0 23.0 0 0 1 0 0 0 0 1 1 0 1 0 0 1 0 0 1]\n",
            " [127 3.0 3.0 4.0 4.0 1.0 1.0 1.0 3.0 3.0 4.0 'Sí' 'Sí' 'No' 'Sí' 'No'\n",
            "  'No' 'No' 'No' 'No' 'No' 'Sí' 5.0 5.0 5.0 5.0 4.0 4.0 4.0 4.0 4.0 5.0\n",
            "  'Sí' 400.0 30.0 0.0 0.0 22.0 0 0 1 0 0 0 0 1 1 0 1 0 0 1 0 0 1]\n",
            " [81 4.0 4.0 5.0 4.0 2.0 3.0 3.0 5.0 3.0 5.0 'Sí' 'Sí' 'No' 'No' 'No'\n",
            "  'No' 'Sí' 'No' 'No' 'No' 'Sí' 5.0 4.0 5.0 5.0 3.0 3.0 3.0 3.0 5.0 5.0\n",
            "  'Sí' 500.0 100.0 250.0 0.0 21.0 0 0 1 0 0 0 1 0 1 0 0 1 0 1 0 0 1]\n",
            " [379 3.0 4.0 4.0 4.0 4.0 5.0 3.0 4.0 4.0 4.0 'Sí' 'Sí' 'No' 'No' 'Sí'\n",
            "  'No' 'No' 'No' 'No' 'No' 'Sí' 5.0 5.0 4.0 5.0 5.0 4.0 4.0 5.0 5.0 5.0\n",
            "  'Sí' 600.0 0.0 300.0 nan 23.0 1 0 0 0 0 0 0 1 1 0 1 0 0 1 0 0 1]]\n",
            "First 5 rows of train_y:\n",
            "[0 0 0 0 0]\n"
          ]
        }
      ],
      "source": [
        "# Identifying numeric and categorical columns\n",
        "numeric_columns = np.where(np.array([np.issubdtype(dt, np.number) for dt in data.dtypes]))[0]\n",
        "categorical_columns = np.where(np.array([pd.api.types.is_string_dtype(dt) for dt in data.dtypes]))[0]\n",
        "\n",
        "print(\"Numeric Columns:\")\n",
        "print(numeric_columns)\n",
        "\n",
        "print(\"Categorical Columns:\")\n",
        "print(categorical_columns)\n",
        "\n",
        "# Print the first few rows of the training set for inspection\n",
        "print(\"First 5 rows of train_x:\")\n",
        "print(train_x[:5])\n",
        "\n",
        "print(\"First 5 rows of train_y:\")\n",
        "print(train_y[:5])"
      ]
    },
    {
      "cell_type": "code",
      "execution_count": 15,
      "metadata": {
        "id": "2cE-Xp25FXoW"
      },
      "outputs": [],
      "source": [
        "#Tendremos que estandarizar las variables para obtener nuestro arbol de decision,\n",
        "#esto porque nuestro arbol no funcionaba porque nuestras variables no estaban como numericas, entonces convertimos test y train.\n",
        "from sklearn.compose import ColumnTransformer\n",
        "from sklearn.preprocessing import StandardScaler, OneHotEncoder\n",
        "from sklearn.impute import SimpleImputer\n",
        "\n",
        "# Identifica las columnas numéricas y categóricas\n",
        "numeric_columns = np.where(np.issubdtype(train_x.dtype, np.number))[0]\n",
        "categorical_columns = [0]  # En este caso, solo hay una columna categórica\n",
        "\n",
        "# Crea el transformador\n",
        "preprocessor = ColumnTransformer(\n",
        "    transformers=[\n",
        "        ('num', StandardScaler(), numeric_columns),\n",
        "        ('cat', OneHotEncoder(handle_unknown='ignore'), categorical_columns)\n",
        "    ])\n",
        "\n",
        "# Aplica el transformador al conjunto de entrenamiento\n",
        "train_x1 = preprocessor.fit_transform(train_x)\n",
        "\n",
        "# Aplica el mismo transformador al conjunto de prueba\n",
        "test_x1 = preprocessor.transform(test_x)\n",
        "\n",
        "\n"
      ]
    },
    {
      "cell_type": "code",
      "execution_count": 16,
      "metadata": {
        "colab": {
          "base_uri": "https://localhost:8080/",
          "height": 74
        },
        "id": "tTf0hzlprcrl",
        "outputId": "d4ae5a75-48b7-4b12-d0b3-08151fd89293"
      },
      "outputs": [
        {
          "data": {
            "text/html": [
              "<style>#sk-container-id-1 {color: black;}#sk-container-id-1 pre{padding: 0;}#sk-container-id-1 div.sk-toggleable {background-color: white;}#sk-container-id-1 label.sk-toggleable__label {cursor: pointer;display: block;width: 100%;margin-bottom: 0;padding: 0.3em;box-sizing: border-box;text-align: center;}#sk-container-id-1 label.sk-toggleable__label-arrow:before {content: \"▸\";float: left;margin-right: 0.25em;color: #696969;}#sk-container-id-1 label.sk-toggleable__label-arrow:hover:before {color: black;}#sk-container-id-1 div.sk-estimator:hover label.sk-toggleable__label-arrow:before {color: black;}#sk-container-id-1 div.sk-toggleable__content {max-height: 0;max-width: 0;overflow: hidden;text-align: left;background-color: #f0f8ff;}#sk-container-id-1 div.sk-toggleable__content pre {margin: 0.2em;color: black;border-radius: 0.25em;background-color: #f0f8ff;}#sk-container-id-1 input.sk-toggleable__control:checked~div.sk-toggleable__content {max-height: 200px;max-width: 100%;overflow: auto;}#sk-container-id-1 input.sk-toggleable__control:checked~label.sk-toggleable__label-arrow:before {content: \"▾\";}#sk-container-id-1 div.sk-estimator input.sk-toggleable__control:checked~label.sk-toggleable__label {background-color: #d4ebff;}#sk-container-id-1 div.sk-label input.sk-toggleable__control:checked~label.sk-toggleable__label {background-color: #d4ebff;}#sk-container-id-1 input.sk-hidden--visually {border: 0;clip: rect(1px 1px 1px 1px);clip: rect(1px, 1px, 1px, 1px);height: 1px;margin: -1px;overflow: hidden;padding: 0;position: absolute;width: 1px;}#sk-container-id-1 div.sk-estimator {font-family: monospace;background-color: #f0f8ff;border: 1px dotted black;border-radius: 0.25em;box-sizing: border-box;margin-bottom: 0.5em;}#sk-container-id-1 div.sk-estimator:hover {background-color: #d4ebff;}#sk-container-id-1 div.sk-parallel-item::after {content: \"\";width: 100%;border-bottom: 1px solid gray;flex-grow: 1;}#sk-container-id-1 div.sk-label:hover label.sk-toggleable__label {background-color: #d4ebff;}#sk-container-id-1 div.sk-serial::before {content: \"\";position: absolute;border-left: 1px solid gray;box-sizing: border-box;top: 0;bottom: 0;left: 50%;z-index: 0;}#sk-container-id-1 div.sk-serial {display: flex;flex-direction: column;align-items: center;background-color: white;padding-right: 0.2em;padding-left: 0.2em;position: relative;}#sk-container-id-1 div.sk-item {position: relative;z-index: 1;}#sk-container-id-1 div.sk-parallel {display: flex;align-items: stretch;justify-content: center;background-color: white;position: relative;}#sk-container-id-1 div.sk-item::before, #sk-container-id-1 div.sk-parallel-item::before {content: \"\";position: absolute;border-left: 1px solid gray;box-sizing: border-box;top: 0;bottom: 0;left: 50%;z-index: -1;}#sk-container-id-1 div.sk-parallel-item {display: flex;flex-direction: column;z-index: 1;position: relative;background-color: white;}#sk-container-id-1 div.sk-parallel-item:first-child::after {align-self: flex-end;width: 50%;}#sk-container-id-1 div.sk-parallel-item:last-child::after {align-self: flex-start;width: 50%;}#sk-container-id-1 div.sk-parallel-item:only-child::after {width: 0;}#sk-container-id-1 div.sk-dashed-wrapped {border: 1px dashed gray;margin: 0 0.4em 0.5em 0.4em;box-sizing: border-box;padding-bottom: 0.4em;background-color: white;}#sk-container-id-1 div.sk-label label {font-family: monospace;font-weight: bold;display: inline-block;line-height: 1.2em;}#sk-container-id-1 div.sk-label-container {text-align: center;}#sk-container-id-1 div.sk-container {/* jupyter's `normalize.less` sets `[hidden] { display: none; }` but bootstrap.min.css set `[hidden] { display: none !important; }` so we also need the `!important` here to be able to override the default hidden behavior on the sphinx rendered scikit-learn.org. See: https://github.com/scikit-learn/scikit-learn/issues/21755 */display: inline-block !important;position: relative;}#sk-container-id-1 div.sk-text-repr-fallback {display: none;}</style><div id=\"sk-container-id-1\" class=\"sk-top-container\"><div class=\"sk-text-repr-fallback\"><pre>DecisionTreeClassifier(criterion=&#x27;entropy&#x27;, max_depth=4)</pre><b>In a Jupyter environment, please rerun this cell to show the HTML representation or trust the notebook. <br />On GitHub, the HTML representation is unable to render, please try loading this page with nbviewer.org.</b></div><div class=\"sk-container\" hidden><div class=\"sk-item\"><div class=\"sk-estimator sk-toggleable\"><input class=\"sk-toggleable__control sk-hidden--visually\" id=\"sk-estimator-id-1\" type=\"checkbox\" checked><label for=\"sk-estimator-id-1\" class=\"sk-toggleable__label sk-toggleable__label-arrow\">DecisionTreeClassifier</label><div class=\"sk-toggleable__content\"><pre>DecisionTreeClassifier(criterion=&#x27;entropy&#x27;, max_depth=4)</pre></div></div></div></div></div>"
            ],
            "text/plain": [
              "DecisionTreeClassifier(criterion='entropy', max_depth=4)"
            ]
          },
          "execution_count": 16,
          "metadata": {},
          "output_type": "execute_result"
        }
      ],
      "source": [
        "#Ahora ajustamos nuestro modelo usando los datos de entrenamiento\n",
        "# Ahora ajustamos nuestro modelo usando los datos de entrenamiento preprocesados\n",
        "arbol.fit(train_x1, train_y)\n"
      ]
    },
    {
      "cell_type": "code",
      "execution_count": 17,
      "metadata": {
        "id": "B3VjuHqJrm9k"
      },
      "outputs": [],
      "source": [
        "#Comenzamos a hacer la predicción y la guardamos en y_pred\n",
        "y_pred = arbol.predict(test_x1)"
      ]
    },
    {
      "cell_type": "code",
      "execution_count": 18,
      "metadata": {
        "colab": {
          "base_uri": "https://localhost:8080/",
          "height": 0
        },
        "id": "xLaju0YGr_yc",
        "outputId": "7e4339d1-3086-4638-c59d-c5d592065b7d"
      },
      "outputs": [
        {
          "name": "stdout",
          "output_type": "stream",
          "text": [
            "Predicción del modelo:  [0 0 0 0 0]\n",
            "Valores reales\n",
            " [0 0 0 0 0]\n"
          ]
        }
      ],
      "source": [
        "#Comparamos los valores reales con los pronosticados por el modelo, nuestro modelo nos esta dando los mismos resultados en train y test por lo que podemos pensar que es un buen modelo.\n",
        "print ('Predicción del modelo: ',y_pred [0:5])\n",
        "print ('Valores reales\\n',test_y [0:5])\n"
      ]
    },
    {
      "cell_type": "code",
      "execution_count": 19,
      "metadata": {
        "colab": {
          "base_uri": "https://localhost:8080/",
          "height": 0
        },
        "id": "ajVcNndjeLgO",
        "outputId": "c2c748c7-e551-4d06-f9e0-4d32be795d04"
      },
      "outputs": [
        {
          "data": {
            "text/plain": [
              "array([[112,   0],\n",
              "       [ 36,   0]], dtype=int64)"
            ]
          },
          "execution_count": 19,
          "metadata": {},
          "output_type": "execute_result"
        }
      ],
      "source": [
        "# Matriz de confusión\n",
        "cm = confusion_matrix(test_y, y_pred)\n",
        "cm"
      ]
    },
    {
      "cell_type": "markdown",
      "metadata": {
        "id": "jwDboi7_JSy_"
      },
      "source": [
        "esto quiere decir que nuestro modelo ha predecido bien 112 estancias mientras que ha fallado en 36 pero al ver que no tenemos ninguna prediccion en nuestra otra columna podemos ver un desequilibrio en el modelo."
      ]
    },
    {
      "cell_type": "code",
      "execution_count": 20,
      "metadata": {
        "colab": {
          "base_uri": "https://localhost:8080/",
          "height": 449
        },
        "id": "ID2uiISaintV",
        "outputId": "87a290f6-2c26-4982-8008-eb93fc0cbf50"
      },
      "outputs": [
        {
          "data": {
            "image/png": "[encoded data removed]",
            "text/plain": [
              "<Figure size 640x480 with 2 Axes>"
            ]
          },
          "metadata": {},
          "output_type": "display_data"
        }
      ],
      "source": [
        "# Visualizando la Matriz de confusión\n",
        "disp = ConfusionMatrixDisplay(confusion_matrix=cm,\n",
        "                                 display_labels=arbol.classes_)\n",
        "disp.plot()\n",
        "plt.show()"
      ]
    },
    {
      "cell_type": "markdown",
      "metadata": {
        "id": "RbKnQVnCJlLi"
      },
      "source": [
        "En este caso, la clase \"Definitivamente sí lo recomendaría\" (1) no ha sido predicha por el modelo en ningun caso, lo que se refleja en los valores 0 en la segunda columna. La clase \"No lo recomendaría\" (0) se predijo correctamente en 112 instancias y se predijo incorrectamente en 36 instancias. Esto nos indica que tenemos un modelo poco exacto por la division de dummies que hicimos."
      ]
    },
    {
      "cell_type": "code",
      "execution_count": 21,
      "metadata": {
        "colab": {
          "base_uri": "https://localhost:8080/",
          "height": 0
        },
        "id": "4yfzjgBwuc-y",
        "outputId": "701425d3-c204-4dc1-c539-82de9ac32654"
      },
      "outputs": [
        {
          "name": "stdout",
          "output_type": "stream",
          "text": [
            "Precisión del Árbol de Clasificación:  0.7567567567567568\n"
          ]
        }
      ],
      "source": [
        "#Evaluamos nuestro modelo y observamos el porcentaje de clasificaciones correctas\n",
        "print(\"Precisión del Árbol de Clasificación: \", accuracy_score(test_y, y_pred))\n"
      ]
    },
    {
      "cell_type": "markdown",
      "metadata": {
        "id": "o2TBwmncJW9x"
      },
      "source": [
        "Nuestro modelo tiene una precision del 75 en sus predicciones por lo que podemos decir que nuestro modelo tiene un desempeno entre regular y malo."
      ]
    },
    {
      "cell_type": "code",
      "execution_count": 31,
      "metadata": {},
      "outputs": [
        {
          "data": {
            "image/png": "[encoded data removed]",
            "text/plain": [
              "<Figure size 2000x1000 with 1 Axes>"
            ]
          },
          "metadata": {},
          "output_type": "display_data"
        }
      ],
      "source": [
        "# Ensure the tree is trained properly before visualizing\n",
        "arbol = DecisionTreeClassifier(criterion='entropy', max_depth=4)\n",
        "arbol.fit(train_x1, train_y)\n",
        "\n",
        "# Convert unique labels to string\n",
        "class_names_str = list(map(str, np.unique(train_y)))\n",
        "\n",
        "# Plot the tree using matplotlib\n",
        "plt.figure(figsize=(20, 10))\n",
        "plot_tree(arbol, \n",
        "          feature_names=[f\"feature_{i}\" for i in range(train_x1.shape[1])],\n",
        "          class_names=class_names_str, \n",
        "          filled=True, \n",
        "          rounded=True, \n",
        "          proportion=True, \n",
        "          precision=2,\n",
        "          fontsize=10)\n",
        "\n",
        "plt.show()\n"
      ]
    },
    {
      "cell_type": "markdown",
      "metadata": {
        "id": "6c8Id3GiHi9Q"
      },
      "source": [
        "Nuestras entropias nos muestran muchas impurezas en los nodos pues el menor valor es de ,788 con las (343-339) observaciones en el modelo.\n",
        "Nuestros valores nos muestras la distribucion entre las clases de 0 y 1 mientras que class nos dice que mientras la condicion de x sea verdadera se va a predecir como resultado la clase 0.\n",
        "\n",
        "En conclusion nuestro arbol de decisiones en muy pobre y tiene una muy baja tasa de acertacion en sus predicciones, supongo que es por el tratamiento de las variables y el error esta desde arriba por la conversion a dummies.\n",
        "\n",
        "Como recomendaciones podemos concluir que es necesario encontrar mejores maneras para clasificar las variables de forma distinta y obtener un modelo con una mejor precision."
      ]
    }
  ],
  "metadata": {
    "colab": {
      "provenance": []
    },
    "kernelspec": {
      "display_name": "Python 3",
      "name": "python3"
    },
    "language_info": {
      "codemirror_mode": {
        "name": "ipython",
        "version": 3
      },
      "file_extension": ".py",
      "mimetype": "text/x-python",
      "name": "python",
      "nbconvert_exporter": "python",
      "pygments_lexer": "ipython3",
      "version": "3.11.5"
    }
  },
  "nbformat": 4,
  "nbformat_minor": 0
}
